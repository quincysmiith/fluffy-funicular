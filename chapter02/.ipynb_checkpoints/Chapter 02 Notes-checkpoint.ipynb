{
 "cells": [
  {
   "cell_type": "markdown",
   "metadata": {},
   "source": [
    "# Chapter 2 - Objects in Python\n",
    "\n",
    "## Creating Python classes\n",
    "\n",
    "A simple python class"
   ]
  },
  {
   "cell_type": "code",
   "execution_count": 1,
   "metadata": {},
   "outputs": [],
   "source": [
    "class MyFirstClass:\n",
    "    pass"
   ]
  },
  {
   "cell_type": "markdown",
   "metadata": {},
   "source": [
    "class definition starts with the class keyword\n",
    "\n",
    "* The class name must start with a letter or underscore\n",
    "* The class name can only be comprised of letters numbers or undersores\n",
    "* classes should be named in the camel case notation"
   ]
  },
  {
   "cell_type": "code",
   "execution_count": 2,
   "metadata": {},
   "outputs": [],
   "source": [
    "# playing with this class\n",
    "\n",
    "a = MyFirstClass()\n",
    "b = MyFirstClass()"
   ]
  },
  {
   "cell_type": "code",
   "execution_count": 3,
   "metadata": {},
   "outputs": [
    {
     "data": {
      "text/plain": [
       "<__main__.MyFirstClass at 0x2e9812a1208>"
      ]
     },
     "execution_count": 3,
     "metadata": {},
     "output_type": "execute_result"
    }
   ],
   "source": [
    "a"
   ]
  },
  {
   "cell_type": "code",
   "execution_count": 4,
   "metadata": {},
   "outputs": [
    {
     "data": {
      "text/plain": [
       "<__main__.MyFirstClass at 0x2e9812a13c8>"
      ]
     },
     "execution_count": 4,
     "metadata": {},
     "output_type": "execute_result"
    }
   ],
   "source": [
    "b"
   ]
  },
  {
   "cell_type": "markdown",
   "metadata": {},
   "source": [
    "The above looks like a function call but python knows it is supposed to create a new object.\n",
    "\n",
    "The 'at ...' is the memory address of the objects\n",
    "\n",
    "## Adding Attributes\n",
    "\n",
    "Attributes can be added to an existing object using dot notation"
   ]
  },
  {
   "cell_type": "code",
   "execution_count": 5,
   "metadata": {},
   "outputs": [],
   "source": [
    "class Point:\n",
    "    pass\n",
    "\n",
    "\n",
    "p1 = Point()\n",
    "p2 = Point()\n",
    "\n",
    "p1.x = 5\n",
    "p1.y = 4\n",
    "\n",
    "p2.x = 3\n",
    "p2.y = 6"
   ]
  },
  {
   "cell_type": "code",
   "execution_count": 6,
   "metadata": {},
   "outputs": [
    {
     "name": "stdout",
     "output_type": "stream",
     "text": [
      "5 4\n"
     ]
    }
   ],
   "source": [
    "print(p1.x, p1.y)"
   ]
  },
  {
   "cell_type": "code",
   "execution_count": 7,
   "metadata": {},
   "outputs": [
    {
     "name": "stdout",
     "output_type": "stream",
     "text": [
      "3 6\n"
     ]
    }
   ],
   "source": [
    "print(p2.x, p2.y)"
   ]
  },
  {
   "cell_type": "markdown",
   "metadata": {},
   "source": [
    "The above assigns values to the x and y attributes to the instnaces of the Point class.\n",
    "\n",
    "The value can be anything: a python primative, a built in data type or another object. It can even be a function or another class.\n",
    "\n",
    "## Make it do something\n",
    "\n",
    "Add a reset functionality to the Point class"
   ]
  },
  {
   "cell_type": "code",
   "execution_count": 8,
   "metadata": {},
   "outputs": [
    {
     "name": "stdout",
     "output_type": "stream",
     "text": [
      "0 0\n"
     ]
    }
   ],
   "source": [
    "class Point:\n",
    "    def reset(self):\n",
    "        self.x = 0\n",
    "        self.y = 0\n",
    "        \n",
    "p = Point()\n",
    "p.reset()\n",
    "print(p.x, p.y)"
   ]
  },
  {
   "cell_type": "markdown",
   "metadata": {},
   "source": [
    "A method in python is formatted identically to a function.\n",
    "\n",
    "## Talking to yourself\n",
    "\n",
    "All methods have one required argument. This argument are conventionally named 'self'.\n",
    "\n",
    "The self argument to a method is a reference to the object that the mothod is being invoked on.\n",
    "\n",
    "The self argument is not passed to 'p.reset()' as python knows we are calling the method on the object, so it is automatically passed.\n",
    "\n",
    "Alternatively we can pass an argument directly as follows"
   ]
  },
  {
   "cell_type": "code",
   "execution_count": 9,
   "metadata": {},
   "outputs": [
    {
     "name": "stdout",
     "output_type": "stream",
     "text": [
      "0 0\n"
     ]
    }
   ],
   "source": [
    "p = Point()\n",
    "Point.reset(p)\n",
    "print(p.x, p.y)"
   ]
  },
  {
   "cell_type": "markdown",
   "metadata": {},
   "source": [
    "What happens if we forget to include the self argument in the class definition"
   ]
  },
  {
   "cell_type": "code",
   "execution_count": 10,
   "metadata": {},
   "outputs": [
    {
     "ename": "TypeError",
     "evalue": "reset() takes 0 positional arguments but 1 was given",
     "output_type": "error",
     "traceback": [
      "\u001b[1;31m---------------------------------------------------------------------------\u001b[0m",
      "\u001b[1;31mTypeError\u001b[0m                                 Traceback (most recent call last)",
      "\u001b[1;32m<ipython-input-10-f02b74620cda>\u001b[0m in \u001b[0;36m<module>\u001b[1;34m\u001b[0m\n\u001b[0;32m      4\u001b[0m \u001b[1;33m\u001b[0m\u001b[0m\n\u001b[0;32m      5\u001b[0m \u001b[0mp\u001b[0m \u001b[1;33m=\u001b[0m \u001b[0mPoint\u001b[0m\u001b[1;33m(\u001b[0m\u001b[1;33m)\u001b[0m\u001b[1;33m\u001b[0m\u001b[0m\n\u001b[1;32m----> 6\u001b[1;33m \u001b[0mp\u001b[0m\u001b[1;33m.\u001b[0m\u001b[0mreset\u001b[0m\u001b[1;33m(\u001b[0m\u001b[1;33m)\u001b[0m\u001b[1;33m\u001b[0m\u001b[0m\n\u001b[0m",
      "\u001b[1;31mTypeError\u001b[0m: reset() takes 0 positional arguments but 1 was given"
     ]
    }
   ],
   "source": [
    "class Point:\n",
    "    def reset():\n",
    "        pass\n",
    "    \n",
    "p = Point()\n",
    "p.reset()"
   ]
  },
  {
   "cell_type": "markdown",
   "metadata": {},
   "source": [
    "Remember to check that 'self' was passed in the method definition if you see this error.\n",
    "\n",
    "## More arguments\n",
    "\n",
    "how do we pass multiple arguments to a method?"
   ]
  },
  {
   "cell_type": "code",
   "execution_count": null,
   "metadata": {},
   "outputs": [],
   "source": [
    "import math\n",
    "\n",
    "class Point:\n",
    "    def move(self, x, y):\n",
    "        self.x = x\n",
    "        self.y = y\n",
    "        \n",
    "    def reset(self):\n",
    "        self.move(0, 0)\n",
    "        \n",
    "    def calculate_distance(self, other_point):\n",
    "        return math.sqrt(\n",
    "        (self.x - other_point.x)**2 +\n",
    "        (self.y - other_point.y)**2)"
   ]
  },
  {
   "cell_type": "code",
   "execution_count": null,
   "metadata": {},
   "outputs": [],
   "source": [
    "# how to use it\n",
    "\n",
    "point1 = Point()\n",
    "point2 = Point()\n",
    "\n",
    "point1.reset()\n",
    "point2.move(5,0)\n",
    "\n",
    "print(point2.calculate_distance(point1))\n",
    "\n",
    "assert (point2.calculate_distance(point1) ==\n",
    "       point1.calculate_distance(point2))\n",
    "\n",
    "point1.move(3,4)\n",
    "print(point1.calculate_distance(point2))\n",
    "print(point1.calculate_distance(point1))"
   ]
  },
  {
   "cell_type": "markdown",
   "metadata": {},
   "source": [
    "## Initialising the object\n",
    "\n",
    "If we dont explicitly set the x and y positions on our 'Point' object, we have a broken point with no real position.\n",
    "\n",
    "Let's see what happens"
   ]
  },
  {
   "cell_type": "code",
   "execution_count": null,
   "metadata": {},
   "outputs": [],
   "source": [
    "point = Point()\n",
    "point.x = 5\n",
    "print(point.x)"
   ]
  },
  {
   "cell_type": "code",
   "execution_count": null,
   "metadata": {},
   "outputs": [],
   "source": [
    "print(point.y)"
   ]
  },
  {
   "cell_type": "markdown",
   "metadata": {},
   "source": [
    "Add an initialization function to the point class that requires an x and y cordinate when the object instance is created."
   ]
  },
  {
   "cell_type": "code",
   "execution_count": null,
   "metadata": {},
   "outputs": [],
   "source": [
    "class Point:\n",
    "    def __init__(self, x, y):\n",
    "        self.move(x,y)\n",
    "        \n",
    "    def move(self, x, y):\n",
    "        self.x = x\n",
    "        self.y = y\n",
    "        \n",
    "    def reset(self):\n",
    "        self.move(0,0)\n",
    "        \n",
    "# Constructing a point\n",
    "point = Point(3,5)\n",
    "print(point.x, point.y)\n",
    "    "
   ]
  },
  {
   "cell_type": "code",
   "execution_count": null,
   "metadata": {},
   "outputs": [],
   "source": [
    "new_point = Point(3)"
   ]
  },
  {
   "cell_type": "markdown",
   "metadata": {},
   "source": [
    "Now all instances of the point object will have both an x and y cordinate.\n",
    "\n",
    "It is also possible to provide defaults to arguments for a function. These operate as a fallback if the arguments are not explicitly defined."
   ]
  },
  {
   "cell_type": "code",
   "execution_count": null,
   "metadata": {},
   "outputs": [],
   "source": [
    "class Point:\n",
    "    def __init__(self, x=0, y=0):\n",
    "        self.move(x, y)"
   ]
  },
  {
   "cell_type": "markdown",
   "metadata": {},
   "source": [
    "Docsctrings\n",
    "\n",
    "For a single function"
   ]
  },
  {
   "cell_type": "code",
   "execution_count": null,
   "metadata": {},
   "outputs": [],
   "source": [
    "def random_number_generator(arg1, arg2):\n",
    "    \"\"\"\n",
    "    Summary line.\n",
    "\n",
    "    Extended description of function.\n",
    "\n",
    "    Parameters\n",
    "    ----------\n",
    "    arg1 : int\n",
    "        Description of arg1\n",
    "    arg2 : str\n",
    "        Description of arg2\n",
    "\n",
    "    Returns\n",
    "    -------\n",
    "    int\n",
    "        Description of return value\n",
    "\n",
    "    \"\"\"\n",
    "    return 42"
   ]
  },
  {
   "cell_type": "markdown",
   "metadata": {},
   "source": [
    "## Modules and packages\n",
    "\n",
    "For small programs it is usually ok to put all classes into one file and add a little script at the end to start them interacting.\n",
    "\n",
    "For larger projects it can be difficult to find the one class you need to edit amongst them all.\n",
    "\n",
    "*This is where models come in*\n",
    "\n",
    "Modules are simply python files.\n",
    "\n",
    "If we have a program that interacts with a database we can put all database related functions in a file called database.py. Then other modules can import classes from the database.py module.\n",
    "\n",
    "## Organising the Modules\n",
    "\n",
    "As a project grows to more and more modules we made need another layer of abstraction.\n",
    "\n",
    "A package is a collection of modules in a folder. The name of the package is the name of the folder. \n",
    "\n",
    "All we need to do tell Python that a folder is a package is to place a (normally empty) file in the folder called __init__.py\n",
    "\n",
    "When importing modules or classes between packages we have to be cautios about the syntax. There are 2 ways of importing modules: absolute import and relative imports\n",
    "\n",
    "### Absolute imports\n",
    "\n",
    "Absolute imports specify the complete path\n"
   ]
  },
  {
   "cell_type": "code",
   "execution_count": null,
   "metadata": {},
   "outputs": [],
   "source": [
    "import ecommerce.products\n",
    "product = ecommerce.products.Product\n",
    "\n",
    "# or\n",
    "\n",
    "from ecommerce.products import Product\n",
    "product = Product()\n",
    "\n",
    "# or\n",
    "\n",
    "from ecommerce import products\n",
    "product = products.Product()"
   ]
  },
  {
   "cell_type": "markdown",
   "metadata": {},
   "source": [
    "### Relative imports\n",
    "\n",
    "Relative imports are a way of accessing related modules in a package."
   ]
  },
  {
   "cell_type": "code",
   "execution_count": null,
   "metadata": {},
   "outputs": [],
   "source": [
    "from .database import Database"
   ]
  },
  {
   "cell_type": "markdown",
   "metadata": {},
   "source": [
    "The period in front of database says \"use the database module inside the current package\"\n",
    "\n",
    "With the following file structure\n",
    "\n",
    "![alt text](example_file_structure.PNG)\n",
    "\n",
    "if we created a paypal module inside the 'ecommerce.payments' package then we would want to say *use the database package inside the parent package*. This can be done as follows"
   ]
  },
  {
   "cell_type": "code",
   "execution_count": null,
   "metadata": {},
   "outputs": [],
   "source": [
    "from ..database import Database"
   ]
  },
  {
   "cell_type": "markdown",
   "metadata": {},
   "source": [
    "We can also import code directly from packages.\n",
    "\n",
    "Let's say the database module contains a 'db' variable that is accessed from a lot of places.\n",
    "\n",
    "We may want to import it as "
   ]
  },
  {
   "cell_type": "code",
   "execution_count": null,
   "metadata": {},
   "outputs": [],
   "source": [
    "import ecommerce.db\n",
    "\n",
    "# instead of\n",
    "\n",
    "import ecommerce.database.db"
   ]
  },
  {
   "cell_type": "markdown",
   "metadata": {},
   "source": [
    "The \\_\\_init__.py file can contain any variable or class declarations. These will then be part of the package.\n",
    "\n",
    "if in ecommerce/\\_\\_init__.py there was this line"
   ]
  },
  {
   "cell_type": "code",
   "execution_count": null,
   "metadata": {},
   "outputs": [],
   "source": [
    "from .database import db\n",
    "\n",
    "# then we can import the db variable from main.py using\n",
    "\n",
    "from ecommerce import db"
   ]
  },
  {
   "cell_type": "markdown",
   "metadata": {},
   "source": [
    "## Organising module contents\n",
    "\n",
    "In a module there can be vairables, classes or functions\n",
    "\n",
    "Modules can be handy to store global variables without namespace conflicts.\n",
    "\n",
    "A database module may look like:\n"
   ]
  },
  {
   "cell_type": "code",
   "execution_count": null,
   "metadata": {},
   "outputs": [],
   "source": [
    "class Database:\n",
    "    # some database stuff\n",
    "    pass\n",
    "\n",
    "database = Database()\n",
    "\n",
    "# then we can do\n",
    "\n",
    "from ecommerce.database import database"
   ]
  },
  {
   "cell_type": "markdown",
   "metadata": {},
   "source": [
    "When structured as above the database object is created at import.\n",
    "\n",
    "This can be problematic depending on how long it takes to create an instance of the 'Database' class. Connecting to a database can be a long process and take some time.\n",
    "\n",
    "A good idea would be to delay creating the database object by creating an initialize database function"
   ]
  },
  {
   "cell_type": "code",
   "execution_count": 1,
   "metadata": {},
   "outputs": [],
   "source": [
    "class Database:\n",
    "    # some database stuff\n",
    "    pass\n",
    "\n",
    "database = None\n",
    "\n",
    "def initialize_database():\n",
    "    global database\n",
    "    database = Database()"
   ]
  },
  {
   "cell_type": "markdown",
   "metadata": {},
   "source": [
    "The 'global' keyword tells python that the database object to be used is the one defined outside of the function.\n",
    "\n",
    "If we hadn't used this python would create a local variable that would be destroyed once the function is finished running.\n",
    "\n",
    "All module level code is executed at import.\n",
    "\n",
    "Functions and methods are only excuted once explicitly called.\n",
    "\n",
    "Wrapping a script in a main prevents the code being executed when imported. (if the script is directly ran the lines in the main wrapper will be executed.)"
   ]
  },
  {
   "cell_type": "code",
   "execution_count": null,
   "metadata": {},
   "outputs": [],
   "source": [
    "class UsefulClass:\n",
    "    # something useful to other modules\n",
    "    pass\n",
    "\n",
    "def main():\n",
    "    '''creates a useful class and does something with it for our module'''\n",
    "    useful = UsefulClass()\n",
    "    print(useful)\n",
    "    \n",
    "if __name__ == \"__main__\":\n",
    "    main()"
   ]
  },
  {
   "cell_type": "markdown",
   "metadata": {},
   "source": [
    "Methods go in classes. Classes go in modules. Modules go in packages.\n",
    "\n",
    "...typically.\n",
    "\n",
    "However it doesn't have to be that way. It is possible to define a class within a function or method.\n",
    "\n",
    "## Who can access my data?\n",
    "\n",
    "In python all methods and classes are publicly available.\n",
    "\n",
    "To avoid people accessing them make it clear in the documentation. Another method is to prefix it with double underscores; this is as a sign for people to not use it as it is a strong indicator that it is meant to be private.\n",
    "\n",
    "For example\n",
    "\n"
   ]
  },
  {
   "cell_type": "code",
   "execution_count": 2,
   "metadata": {},
   "outputs": [],
   "source": [
    "class SecretString:\n",
    "    '''A not at all secure way to store a secret string.'''\n",
    "    \n",
    "    def __init__(self, plain_string, pass_phrase):\n",
    "        self.__plain_string = plain_string\n",
    "        self.__pass_phrase = pass_phrase\n",
    "        \n",
    "    def decrypt(self, pass_phrase):\n",
    "        '''Only show the string if the pass_phrase is correct.'''\n",
    "        if pass_phrase == self.__pass_phrase:\n",
    "            return self.__plain_string\n",
    "        else:\n",
    "            return ''"
   ]
  },
  {
   "cell_type": "code",
   "execution_count": 3,
   "metadata": {},
   "outputs": [
    {
     "name": "stdout",
     "output_type": "stream",
     "text": [
      "ACME: Top Secret\n"
     ]
    }
   ],
   "source": [
    "# using this class\n",
    "secret_string = SecretString(\"ACME: Top Secret\", \"antwerp\")\n",
    "print(secret_string.decrypt(\"antwerp\"))"
   ]
  },
  {
   "cell_type": "code",
   "execution_count": 4,
   "metadata": {},
   "outputs": [
    {
     "ename": "AttributeError",
     "evalue": "'SecretString' object has no attribute '__plain_text'",
     "output_type": "error",
     "traceback": [
      "\u001b[1;31m---------------------------------------------------------------------------\u001b[0m",
      "\u001b[1;31mAttributeError\u001b[0m                            Traceback (most recent call last)",
      "\u001b[1;32m<ipython-input-4-438eea1e5596>\u001b[0m in \u001b[0;36m<module>\u001b[1;34m\u001b[0m\n\u001b[1;32m----> 1\u001b[1;33m \u001b[0mprint\u001b[0m\u001b[1;33m(\u001b[0m\u001b[0msecret_string\u001b[0m\u001b[1;33m.\u001b[0m\u001b[0m__plain_text\u001b[0m\u001b[1;33m)\u001b[0m\u001b[1;33m\u001b[0m\u001b[0m\n\u001b[0m",
      "\u001b[1;31mAttributeError\u001b[0m: 'SecretString' object has no attribute '__plain_text'"
     ]
    }
   ],
   "source": [
    "print(secret_string.__plain_text)"
   ]
  },
  {
   "cell_type": "code",
   "execution_count": 6,
   "metadata": {},
   "outputs": [
    {
     "name": "stdout",
     "output_type": "stream",
     "text": [
      "ACME: Top Secret\n"
     ]
    }
   ],
   "source": [
    "# the code can still be accessed however\n",
    "print(secret_string._SecretString__plain_string)"
   ]
  },
  {
   "cell_type": "markdown",
   "metadata": {},
   "source": [
    "This is python mangling.\n",
    "\n",
    "Using a double underscore means the attribute can only be accesed when the _classname_ is prefixed.\n",
    "\n",
    "Most python programmers will not touch underscore variables unless there is an extremely compelling case to do so.\n",
    "\n",
    "## Third party libraries\n",
    "\n",
    "Python ships with \"Batteries included\" which is a standard library that can do many things.\n",
    "\n",
    "There may be times when more funtionality is needed.\n",
    "\n",
    "Then you can\n",
    "\n",
    "* write a package yourself\n",
    "* use somebody else's code\n",
    "\n",
    "Many libraries that other people have written can be found at https://pypi.org/\n",
    "\n",
    "Libraries at pypi can be installed using pip.\n",
    "\n",
    "To ensure you have pip run the following command"
   ]
  },
  {
   "cell_type": "code",
   "execution_count": null,
   "metadata": {},
   "outputs": [],
   "source": [
    "!python -m ensurepip\n",
    "\n",
    "# Then once you have pip packages can be installed as follows\n",
    "\n",
    "!pip install requests"
   ]
  },
  {
   "cell_type": "markdown",
   "metadata": {},
   "source": [
    "It is considered best practice to use virtual envirenments.\n",
    "\n",
    "Virtual envirenments can be set up and accessed as follows:"
   ]
  },
  {
   "cell_type": "code",
   "execution_count": null,
   "metadata": {},
   "outputs": [],
   "source": [
    "!cd project_directory\n",
    "!python -m venv env\n",
    "!source env/bin/activate # on Linux or mac\n",
    "!env/bin/activate.bat    # on windows"
   ]
  },
  {
   "cell_type": "markdown",
   "metadata": {},
   "source": [
    "Materials\n",
    "\n",
    "Virtual env: https://aaronlelevier.github.io/virtualenv-cheatsheet/\n",
    "\n",
    "pipenv: https://gist.github.com/bradtraversy/c70a93d6536ed63786c434707b898d55\n",
    "\n",
    "\n",
    "Usual practice is to set up a vitual envireonment for each project.\n",
    "\n",
    "# Case Study\n",
    "\n",
    "Building a simple command line notebook application.\n",
    "\n",
    "Notes are stored in a notebook. Notes should be searchable. Interactions occur from the command line.\n",
    "\n",
    "There should be a _Note_ object. There should be a _Notebook_ container object.\n",
    "\n",
    "A note object should have the following attributes\n",
    "\n",
    "* memo\n",
    "* tags\n",
    "* creation_date\n",
    "* unique integer id\n",
    "\n",
    "There could also be a method to modify these attributes. There could be a _match_ method on a note object to make searching easier.\n",
    "\n",
    "The notebook object needs a list of notes as an attribute.\n",
    "\n",
    "We should aim to design it so a GUI toolkit could be added in the future.\n",
    "\n",
    "Simple class diagram:\n",
    "\n",
    "![alt text](notebook_app_class_diagram.PNG)\n"
   ]
  },
  {
   "cell_type": "markdown",
   "metadata": {},
   "source": [
    "The menu interface should be written in its own module since its an executable script.\n",
    "\n",
    "The notebook and Note objects can be stored in a single module.\n",
    "\n",
    "![alt text](notebook_file_structure.PNG)\n",
    "\n"
   ]
  },
  {
   "cell_type": "code",
   "execution_count": 2,
   "metadata": {},
   "outputs": [],
   "source": [
    "# %load notebook.py\n",
    "import datetime\n",
    "\n",
    "# store the next avaibale id for all new notes\n",
    "last_id = 0\n",
    "\n",
    "class Note:\n",
    "    '''Represent a note in the notebook. Match against a \n",
    "    string in searches and store tags for each note.'''\n",
    "    \n",
    "    def __init__(self, memo, tags = ''):\n",
    "        '''initialize a note with memo and optional\n",
    "        space-separated tags. Automatically set the note's \n",
    "        creation date and a unique id.'''\n",
    "        self.memo = memo\n",
    "        self.tags = tags\n",
    "        self.creation_date = datetime.date.today()\n",
    "        global last_id\n",
    "        last_id += 1\n",
    "        self.id = last_id\n",
    "        \n",
    "    def match(self, filter):\n",
    "        '''Determine if this note matches the filter\n",
    "        text. Return True if it matches, False otherwise.\n",
    "        \n",
    "        Search is case sensitive and matches both text and \n",
    "        tags.'''\n",
    "        return filter in self.memo or filter in self.tags"
   ]
  },
  {
   "cell_type": "code",
   "execution_count": 3,
   "metadata": {},
   "outputs": [],
   "source": [
    "n1 = Note(\"hello first\")\n",
    "n2 = Note(\"hello again\")"
   ]
  },
  {
   "cell_type": "code",
   "execution_count": 4,
   "metadata": {},
   "outputs": [
    {
     "data": {
      "text/plain": [
       "1"
      ]
     },
     "execution_count": 4,
     "metadata": {},
     "output_type": "execute_result"
    }
   ],
   "source": [
    "n1.id"
   ]
  },
  {
   "cell_type": "code",
   "execution_count": 5,
   "metadata": {},
   "outputs": [
    {
     "data": {
      "text/plain": [
       "2"
      ]
     },
     "execution_count": 5,
     "metadata": {},
     "output_type": "execute_result"
    }
   ],
   "source": [
    "n2.id"
   ]
  },
  {
   "cell_type": "code",
   "execution_count": 6,
   "metadata": {},
   "outputs": [
    {
     "data": {
      "text/plain": [
       "True"
      ]
     },
     "execution_count": 6,
     "metadata": {},
     "output_type": "execute_result"
    }
   ],
   "source": [
    "n1.match('hello')"
   ]
  },
  {
   "cell_type": "code",
   "execution_count": 7,
   "metadata": {},
   "outputs": [
    {
     "data": {
      "text/plain": [
       "False"
      ]
     },
     "execution_count": 7,
     "metadata": {},
     "output_type": "execute_result"
    }
   ],
   "source": [
    "n2.match('second')"
   ]
  },
  {
   "cell_type": "code",
   "execution_count": 2,
   "metadata": {},
   "outputs": [],
   "source": [
    "# %load notebook.py\n",
    "import datetime\n",
    "\n",
    "# store the next avaibale id for all new notes\n",
    "last_id = 0\n",
    "\n",
    "class Note:\n",
    "    '''Represent a note in the notebook. Match against a \n",
    "    string in searches and store tags for each note.'''\n",
    "    \n",
    "    def __init__(self, memo, tags = ''):\n",
    "        '''initialize a note with memo and optional\n",
    "        space-separated tags. Automatically set the note's \n",
    "        creation date and a unique id.'''\n",
    "        self.memo = memo\n",
    "        self.tags = tags\n",
    "        self.creation_date = datetime.date.today()\n",
    "        global last_id\n",
    "        last_id += 1\n",
    "        self.id = last_id\n",
    "        \n",
    "    def match(self, filter):\n",
    "        '''Determine if this note matches the filter\n",
    "        text. Return True if it matches, False otherwise.\n",
    "        \n",
    "        Search is case sensitive and matches both text and \n",
    "        tags.'''\n",
    "        return filter in self.memo or filter in self.tags\n",
    "    \n",
    "class Notebook:\n",
    "    ''' Represent a collection of notes that can be tagged,\n",
    "    modified, and searched.'''\n",
    "    \n",
    "    def __init__(self):\n",
    "        '''Initialize a notebook with an empty list.'''\n",
    "        self.notes = []\n",
    "        \n",
    "    def new_note(self, memo, tags=''):\n",
    "        '''Create a new note and add it to the list.'''\n",
    "        self.notes.append(Note(memo, tags))\n",
    "        \n",
    "    def modify_memo(self, note_id, memo):\n",
    "        '''Find the note with the given id and change its\n",
    "        memo to the the given value.'''\n",
    "        \n",
    "        for note in self.notes:\n",
    "            if note.id == note_id:\n",
    "                note.memo = memo\n",
    "                break\n",
    "                \n",
    "    def modify_tags(self, note_id, tags):\n",
    "        '''Find the note with the given id and change its \n",
    "        tags to the given value.'''\n",
    "        for note in self.notes:\n",
    "            if note.id ==note_id:\n",
    "                note.tags = tags\n",
    "                break\n",
    "                \n",
    "    def search(self, filter):\n",
    "        '''Find all notes that match the given filter\n",
    "        string.'''\n",
    "        return [note for note in self.notes if\n",
    "               note.match(filter)]"
   ]
  },
  {
   "cell_type": "code",
   "execution_count": 3,
   "metadata": {},
   "outputs": [
    {
     "data": {
      "text/plain": [
       "[<__main__.Note at 0x1e3622f5f60>, <__main__.Note at 0x1e3622f5f28>]"
      ]
     },
     "execution_count": 3,
     "metadata": {},
     "output_type": "execute_result"
    }
   ],
   "source": [
    "n = Notebook()\n",
    "n.new_note(\"hello world\")\n",
    "n.new_note(\"hello again\")\n",
    "n.notes"
   ]
  },
  {
   "cell_type": "code",
   "execution_count": 4,
   "metadata": {},
   "outputs": [
    {
     "data": {
      "text/plain": [
       "1"
      ]
     },
     "execution_count": 4,
     "metadata": {},
     "output_type": "execute_result"
    }
   ],
   "source": [
    "n.notes[0].id"
   ]
  },
  {
   "cell_type": "code",
   "execution_count": 5,
   "metadata": {},
   "outputs": [
    {
     "data": {
      "text/plain": [
       "2"
      ]
     },
     "execution_count": 5,
     "metadata": {},
     "output_type": "execute_result"
    }
   ],
   "source": [
    "n.notes[1].id"
   ]
  },
  {
   "cell_type": "code",
   "execution_count": 6,
   "metadata": {},
   "outputs": [
    {
     "data": {
      "text/plain": [
       "[<__main__.Note at 0x1e3622f5f60>, <__main__.Note at 0x1e3622f5f28>]"
      ]
     },
     "execution_count": 6,
     "metadata": {},
     "output_type": "execute_result"
    }
   ],
   "source": [
    "n.search(\"hello\")"
   ]
  },
  {
   "cell_type": "code",
   "execution_count": 7,
   "metadata": {},
   "outputs": [
    {
     "data": {
      "text/plain": [
       "[<__main__.Note at 0x1e3622f5f60>]"
      ]
     },
     "execution_count": 7,
     "metadata": {},
     "output_type": "execute_result"
    }
   ],
   "source": [
    "n.search(\"world\")"
   ]
  },
  {
   "cell_type": "code",
   "execution_count": 8,
   "metadata": {},
   "outputs": [
    {
     "data": {
      "text/plain": [
       "'hello world'"
      ]
     },
     "execution_count": 8,
     "metadata": {},
     "output_type": "execute_result"
    }
   ],
   "source": [
    "n.notes[0].memo"
   ]
  },
  {
   "cell_type": "code",
   "execution_count": 9,
   "metadata": {},
   "outputs": [],
   "source": [
    "n.modify_memo(1, \"hi world\")"
   ]
  },
  {
   "cell_type": "code",
   "execution_count": 10,
   "metadata": {},
   "outputs": [
    {
     "data": {
      "text/plain": [
       "'hi world'"
      ]
     },
     "execution_count": 10,
     "metadata": {},
     "output_type": "execute_result"
    }
   ],
   "source": [
    "n.notes[0].memo"
   ]
  },
  {
   "cell_type": "code",
   "execution_count": null,
   "metadata": {},
   "outputs": [],
   "source": []
  }
 ],
 "metadata": {
  "kernelspec": {
   "display_name": "Python 3",
   "language": "python",
   "name": "python3"
  },
  "language_info": {
   "codemirror_mode": {
    "name": "ipython",
    "version": 3
   },
   "file_extension": ".py",
   "mimetype": "text/x-python",
   "name": "python",
   "nbconvert_exporter": "python",
   "pygments_lexer": "ipython3",
   "version": "3.7.0"
  }
 },
 "nbformat": 4,
 "nbformat_minor": 2
}
