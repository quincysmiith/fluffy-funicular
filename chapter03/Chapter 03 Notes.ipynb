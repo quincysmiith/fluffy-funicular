{
 "cells": [
  {
   "cell_type": "markdown",
   "metadata": {},
   "source": [
    "# Chapter 3 - When Objects are alike\n",
    "\n",
    "Duplicated code is considered evil. Steps to avoid duplicate code should be taken wherever possible.\n",
    "\n",
    "There are many ways to merge code or objects that function similarly.\n",
    "\n",
    "This chapter will focus on inheritance.\n",
    "\n",
    "Specifically we will cover:\n",
    "\n",
    "* Basic inheritance\n",
    "* Inheriting from built-ins\n",
    "* Multiple inheritance\n",
    "* Polymorphism and duck typing\n",
    "\n",
    "## Basic Inheritance\n",
    "\n",
    "Technically every class we create uses inheritance.\n",
    "\n",
    "All python classes are subclasses of the special class named _object_.\n",
    "\n",
    "By default all classes inherit the object class.\n",
    "\n"
   ]
  },
  {
   "cell_type": "code",
   "execution_count": 1,
   "metadata": {},
   "outputs": [],
   "source": [
    "class MySubClass(object):\n",
    "    pass\n",
    "\n",
    "# IS exactly the same as\n",
    "\n",
    "class MySubClass():\n",
    "    pass"
   ]
  },
  {
   "cell_type": "markdown",
   "metadata": {},
   "source": [
    "A class being inherited from is called a superclass or parent class.\n",
    "\n",
    "In the previous example the superclass is _object_. Even when not explicitly called.\n",
    "\n",
    "To invoke inheritance simply include the name of the class in the paranthesis of the class definition.\n",
    "\n",
    "In practice inheritance is used to provide additional functionality to an existing class.\n",
    "\n",
    "**Example**\n",
    "\n",
    "A contact manager that tracks the names and emails of people"
   ]
  },
  {
   "cell_type": "code",
   "execution_count": 2,
   "metadata": {},
   "outputs": [],
   "source": [
    "class Contact:\n",
    "    all_contacts = []\n",
    "    \n",
    "    def __init__(self, name, email):\n",
    "        self.name = name\n",
    "        self.email = email\n",
    "        Contact.all_contacts.append(self)"
   ]
  },
  {
   "cell_type": "markdown",
   "metadata": {},
   "source": [
    "The _all_contacts_ list is shared by all instances of this class. Because it is part of class definition.\n",
    "\n",
    "The following can be used to access the all_contacts object\n",
    "\n",
    "```python\n",
    "Contact.all_contacts\n",
    "\n",
    "# alternatively\n",
    "\n",
    "self.all_contacts # will work on any object instantiated from Contact\n",
    "```\n",
    "\n",
    "If a field is not found on the object then python will look in the class definition for it.\n",
    "\n",
    "> Warning\n",
    ">\n",
    "> Using self.all_contacts in the class definition will create a **new** instance variable. This will then only be acessible on that particular object.\n",
    "\n",
    "Lets make a supplier class that inherits from the Contact class. We would like to add an order method, however it doesn't make sense to be able to order from everyone in the address book, it would only apply to suppliers."
   ]
  },
  {
   "cell_type": "code",
   "execution_count": 3,
   "metadata": {},
   "outputs": [],
   "source": [
    "class Supplier(Contact):\n",
    "    def order (self, order):\n",
    "        print(\"If this were a real system we would send \"\n",
    "             \"'{}' order to '{}'\".format(order, self.name))"
   ]
  },
  {
   "cell_type": "code",
   "execution_count": 4,
   "metadata": {},
   "outputs": [
    {
     "name": "stdout",
     "output_type": "stream",
     "text": [
      "Some Body somebody@example.net Sup Plier supplier@example.net\n"
     ]
    }
   ],
   "source": [
    "c = Contact(\"Some Body\", \"somebody@example.net\")\n",
    "s = Supplier(\"Sup Plier\", \"supplier@example.net\")\n",
    "\n",
    "print(c.name, c.email, s.name, s.email)"
   ]
  },
  {
   "cell_type": "code",
   "execution_count": 5,
   "metadata": {},
   "outputs": [
    {
     "data": {
      "text/plain": [
       "[<__main__.Contact at 0x1d9a4c26ba8>, <__main__.Supplier at 0x1d9a4c26b70>]"
      ]
     },
     "execution_count": 5,
     "metadata": {},
     "output_type": "execute_result"
    }
   ],
   "source": [
    "c.all_contacts"
   ]
  },
  {
   "cell_type": "code",
   "execution_count": 6,
   "metadata": {},
   "outputs": [
    {
     "ename": "AttributeError",
     "evalue": "'Contact' object has no attribute 'order'",
     "output_type": "error",
     "traceback": [
      "\u001b[1;31m---------------------------------------------------------------------------\u001b[0m",
      "\u001b[1;31mAttributeError\u001b[0m                            Traceback (most recent call last)",
      "\u001b[1;32m<ipython-input-6-60117610530f>\u001b[0m in \u001b[0;36m<module>\u001b[1;34m\u001b[0m\n\u001b[1;32m----> 1\u001b[1;33m \u001b[0mc\u001b[0m\u001b[1;33m.\u001b[0m\u001b[0morder\u001b[0m\u001b[1;33m(\u001b[0m\u001b[1;34m\"I need pliers\"\u001b[0m\u001b[1;33m)\u001b[0m\u001b[1;33m\u001b[0m\u001b[0m\n\u001b[0m",
      "\u001b[1;31mAttributeError\u001b[0m: 'Contact' object has no attribute 'order'"
     ]
    }
   ],
   "source": [
    "c.order(\"I need pliers\")"
   ]
  },
  {
   "cell_type": "code",
   "execution_count": 7,
   "metadata": {},
   "outputs": [
    {
     "name": "stdout",
     "output_type": "stream",
     "text": [
      "If this were a real system we would send 'I need pliers' order to 'Sup Plier'\n"
     ]
    }
   ],
   "source": [
    "s.order(\"I need pliers\")"
   ]
  },
  {
   "cell_type": "markdown",
   "metadata": {},
   "source": [
    "The Supplier class can do everything the Contact class can do.\n",
    "\n",
    "And the extra thing which is handling orders.\n",
    "\n",
    "## Extending built-ins\n",
    "\n",
    "We can add functionality to built in classes.\n",
    "\n",
    "In the contact class there is a list of all contacts defined. This could do with being searchable.\n",
    "\n",
    "Let's create a contact list class which inherits from the list built in class and add a search method to it."
   ]
  },
  {
   "cell_type": "code",
   "execution_count": 2,
   "metadata": {},
   "outputs": [],
   "source": [
    "class ContactList(list):\n",
    "    def search(self, name):\n",
    "        '''Return all contacts that contain the search value \n",
    "        in their name.'''\n",
    "        matching_contacts = []\n",
    "        for contact in self:\n",
    "            if name in contact.name:\n",
    "                matching_contacts.append(contact)\n",
    "        return matching_contacts\n",
    "    \n",
    "class Contact:\n",
    "    all_contacts = ContactList()\n",
    "    \n",
    "    def __init__(self,name, email):\n",
    "        self.name = name\n",
    "        self.email = email\n",
    "        self.all_contacts.append(self)"
   ]
  },
  {
   "cell_type": "markdown",
   "metadata": {},
   "source": [
    "all_contacts is now an instance of the ContactList class.\n",
    "\n",
    "The ContactList class extends the built in list class by adding a method that searches for names.\n",
    "\n",
    "let's test"
   ]
  },
  {
   "cell_type": "code",
   "execution_count": 3,
   "metadata": {},
   "outputs": [],
   "source": [
    "c1 = Contact(\"John A\", \"johna@example.net\")\n",
    "c2 = Contact(\"John B\", \"johnb@example.net\")\n",
    "c3 = Contact(\"Jenna C\", \"jennac@example.net\")"
   ]
  },
  {
   "cell_type": "code",
   "execution_count": 4,
   "metadata": {},
   "outputs": [
    {
     "data": {
      "text/plain": [
       "['John A', 'John B']"
      ]
     },
     "execution_count": 4,
     "metadata": {},
     "output_type": "execute_result"
    }
   ],
   "source": [
    "[c.name for c in Contact.all_contacts.search('John')]"
   ]
  },
  {
   "cell_type": "code",
   "execution_count": 5,
   "metadata": {},
   "outputs": [
    {
     "data": {
      "text/plain": [
       "True"
      ]
     },
     "execution_count": 5,
     "metadata": {},
     "output_type": "execute_result"
    }
   ],
   "source": [
    "[] == list()"
   ]
  },
  {
   "cell_type": "markdown",
   "metadata": {},
   "source": [
    "The \\[ \\] syntax calls the list() constructor under the hood.\n",
    "\n",
    "\\[ \\] is refered to as syntax sugar.\n",
    "\n",
    "the list data type is a class we can extend. The list itself extends the object class."
   ]
  },
  {
   "cell_type": "code",
   "execution_count": 6,
   "metadata": {},
   "outputs": [
    {
     "data": {
      "text/plain": [
       "True"
      ]
     },
     "execution_count": 6,
     "metadata": {},
     "output_type": "execute_result"
    }
   ],
   "source": [
    "isinstance([], object)"
   ]
  },
  {
   "cell_type": "markdown",
   "metadata": {},
   "source": [
    "Let's extend the dictionary class"
   ]
  },
  {
   "cell_type": "code",
   "execution_count": 7,
   "metadata": {},
   "outputs": [],
   "source": [
    "class LongNameDict(dict):\n",
    "    def longest_key(self):\n",
    "        longest = None\n",
    "        for key in self:\n",
    "            if not longest or len(key) > len(longest):\n",
    "                longest = key\n",
    "        return longest"
   ]
  },
  {
   "cell_type": "code",
   "execution_count": 8,
   "metadata": {},
   "outputs": [],
   "source": [
    "longkeys = LongNameDict()\n",
    "longkeys['hello'] = 1\n",
    "longkeys['longest yet'] = 5\n",
    "longkeys['hello2'] = 'world'\n"
   ]
  },
  {
   "cell_type": "code",
   "execution_count": 9,
   "metadata": {},
   "outputs": [
    {
     "data": {
      "text/plain": [
       "'longest yet'"
      ]
     },
     "execution_count": 9,
     "metadata": {},
     "output_type": "execute_result"
    }
   ],
   "source": [
    "longkeys.longest_key()"
   ]
  },
  {
   "cell_type": "markdown",
   "metadata": {},
   "source": [
    "Most built in types can be extended.\n",
    "\n",
    "Built in classes that are commonly extended include:\n",
    "* object\n",
    "* list\n",
    "* dict\n",
    "* set\n",
    "* file\n",
    "* str\n",
    "\n",
    "## Overriding and super\n",
    "\n",
    "Inheritance is good for adding new behaviour.\n",
    "\n",
    "What if we want to change existing behaviour? For example if we want to add a phone number for our close contacts.\n",
    "\n",
    "The below shows how to override the init method in the subclass.\n",
    "\n",
    "Overriding means replacing or altering a method of the superclass with a new method (with the same name).\n",
    "\n",
    "When the method is called the definition for the subclass is used instead of the one in the superclass."
   ]
  },
  {
   "cell_type": "code",
   "execution_count": 10,
   "metadata": {},
   "outputs": [],
   "source": [
    "class Friend(Contact):\n",
    "    def __init__(self, name, email, phone):\n",
    "        self.name = name\n",
    "        self.email = email\n",
    "        self.phone = phone"
   ]
  },
  {
   "cell_type": "markdown",
   "metadata": {},
   "source": [
    "Any method can be overidden.\n",
    "\n",
    "The above example may cause some problems however:\n",
    "* duplicate code to set up name and email.\n",
    "* The friend class is not adding itself to all_contacts list we created in the contacts class\n",
    "\n",
    "We need to execute the original \\_\\_init__ method that is part of the Contact class.\n",
    "\n",
    "The 'super' function can do this for us. This returns the object as an instance of the parent class so it is possible to call the parent method directly."
   ]
  },
  {
   "cell_type": "code",
   "execution_count": 11,
   "metadata": {},
   "outputs": [],
   "source": [
    "class Friend(Contact):\n",
    "    def __init__(self, name, email, phone):\n",
    "        super.__init__(name, email)\n",
    "        self.phone = phone"
   ]
  },
  {
   "cell_type": "markdown",
   "metadata": {},
   "source": [
    "A 'super()' call can be made inside any method.\n",
    "\n",
    "A 'super()' call can be made at any point in the method. Eg after input validation.\n",
    "\n",
    "## Multiple inheritance\n",
    "\n",
    "This refers to a subclass that inherits from more than one parent class.\n",
    "\n",
    "This is contraversial, many experts recommend against this.\n",
    "\n",
    "The most useful form of multiple inheritance is called a __mixin__. A mixin is meant to be inherited by some other class to provide extra functionality.\n",
    "\n",
    "For example a "
   ]
  },
  {
   "cell_type": "code",
   "execution_count": 12,
   "metadata": {},
   "outputs": [],
   "source": [
    "class MailSender:\n",
    "    def send_mail(self, message):\n",
    "        print(\"Sending mail to \" + self.email)\n",
    "        # Add e-mail logic here"
   ]
  },
  {
   "cell_type": "code",
   "execution_count": null,
   "metadata": {},
   "outputs": [],
   "source": []
  }
 ],
 "metadata": {
  "kernelspec": {
   "display_name": "Python 3",
   "language": "python",
   "name": "python3"
  },
  "language_info": {
   "codemirror_mode": {
    "name": "ipython",
    "version": 3
   },
   "file_extension": ".py",
   "mimetype": "text/x-python",
   "name": "python",
   "nbconvert_exporter": "python",
   "pygments_lexer": "ipython3",
   "version": "3.7.0"
  }
 },
 "nbformat": 4,
 "nbformat_minor": 2
}
