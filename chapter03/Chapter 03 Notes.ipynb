{
 "cells": [
  {
   "cell_type": "markdown",
   "metadata": {},
   "source": [
    "# Chapter 3 - When Objects are alike\n",
    "\n",
    "Duplicated code is considered evil. Steps to avoid duplicate code should be taken wherever possible.\n",
    "\n",
    "There are many ways to merge code or objects that function similarly.\n",
    "\n",
    "This chapter will focus on inheritance.\n",
    "\n",
    "Specifically we will cover:\n",
    "\n",
    "* Basic inheritance\n",
    "* Inheriting from built-ins\n",
    "* Multiple inheritance\n",
    "* Polymorphism and duck typing\n",
    "\n",
    "## Basic Inheritance\n",
    "\n",
    "Technically every class we create uses inheritance.\n",
    "\n",
    "All python classes are subclasses of the special class named _object_.\n",
    "\n",
    "By default all classes inherit the object class.\n",
    "\n"
   ]
  },
  {
   "cell_type": "code",
   "execution_count": 1,
   "metadata": {},
   "outputs": [],
   "source": [
    "class MySubClass(object):\n",
    "    pass\n",
    "\n",
    "# IS exactly the same as\n",
    "\n",
    "class MySubClass():\n",
    "    pass"
   ]
  },
  {
   "cell_type": "markdown",
   "metadata": {},
   "source": [
    "A class being ingerited from is called a superclass or parent class.\n",
    "\n",
    "In the previous example the superclass is _object_. Even when not explicitly called.\n",
    "\n",
    "To invoke inheritance simply include the name of the class in the paranthesis of the class definition."
   ]
  }
 ],
 "metadata": {
  "kernelspec": {
   "display_name": "Python 3",
   "language": "python",
   "name": "python3"
  },
  "language_info": {
   "codemirror_mode": {
    "name": "ipython",
    "version": 3
   },
   "file_extension": ".py",
   "mimetype": "text/x-python",
   "name": "python",
   "nbconvert_exporter": "python",
   "pygments_lexer": "ipython3",
   "version": "3.7.0"
  }
 },
 "nbformat": 4,
 "nbformat_minor": 2
}
