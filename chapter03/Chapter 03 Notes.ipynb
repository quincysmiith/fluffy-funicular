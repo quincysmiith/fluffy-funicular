{
 "cells": [
  {
   "cell_type": "markdown",
   "metadata": {},
   "source": [
    "# Chapter 3 - When Objects are alike\n",
    "\n",
    "Duplicated code is considered evil. Steps to avoid duplicate code should be taken wherever possible.\n",
    "\n",
    "There are many ways to merge code or objects that function similarly.\n",
    "\n",
    "This chapter will focus on inheritance.\n",
    "\n",
    "Specifically we will cover:\n",
    "\n",
    "* Basic inheritance\n",
    "* Inheriting from built-ins\n",
    "* Multiple inheritance\n",
    "* Polymorphism and duck typing\n",
    "\n",
    "## Basic Inheritance\n",
    "\n",
    "Technically every class we create uses inheritance.\n",
    "\n",
    "All python classes are subclasses of the special class named _object_.\n",
    "\n",
    "By default all classes inherit the object class.\n",
    "\n"
   ]
  },
  {
   "cell_type": "code",
   "execution_count": 1,
   "metadata": {},
   "outputs": [],
   "source": [
    "class MySubClass(object):\n",
    "    pass\n",
    "\n",
    "# IS exactly the same as\n",
    "\n",
    "class MySubClass():\n",
    "    pass"
   ]
  },
  {
   "cell_type": "markdown",
   "metadata": {},
   "source": [
    "A class being ingerited from is called a superclass or parent class.\n",
    "\n",
    "In the previous example the superclass is _object_. Even when not explicitly called.\n",
    "\n",
    "To invoke inheritance simply include the name of the class in the paranthesis of the class definition.\n",
    "\n",
    "In practice inheritance is used to provide additional functionality to an existing class.\n",
    "\n",
    "**Example**\n",
    "\n",
    "A contact manager that tracks the names and emails of people"
   ]
  },
  {
   "cell_type": "code",
   "execution_count": 1,
   "metadata": {},
   "outputs": [],
   "source": [
    "class Contact:\n",
    "    all_contacts = []\n",
    "    \n",
    "    def __init__(self, name, email):\n",
    "        self.name = name\n",
    "        self.email = email\n",
    "        Contact.all_contacts.append(self)"
   ]
  },
  {
   "cell_type": "markdown",
   "metadata": {},
   "source": [
    "The _all_contacts_ list is shared by all instances of this class. Because it is part of class definition.\n",
    "\n",
    "The following can be used to access the all_contacts object\n",
    "\n",
    "```python\n",
    "Contact.all_contacts\n",
    "\n",
    "# alternatively\n",
    "\n",
    "self.all_contacts # will work on any object instantiated from Contact\n",
    "```\n",
    "\n",
    "If a field is not found on the object then python will look in the class definition for it.\n",
    "\n",
    "> Warning\n",
    ">\n",
    "> Using self.all_contacts in the class definition will create a **new** instance variable. This will then only be acessible on that particular object.\n",
    "\n",
    "Lets make a supplier class that inherits from the Contact class. We would like to add an order method, however it doesn't make sense to be able to order from everyone in the address book, it would only apply to suppliers."
   ]
  },
  {
   "cell_type": "code",
   "execution_count": null,
   "metadata": {},
   "outputs": [],
   "source": []
  }
 ],
 "metadata": {
  "kernelspec": {
   "display_name": "Python 3",
   "language": "python",
   "name": "python3"
  },
  "language_info": {
   "codemirror_mode": {
    "name": "ipython",
    "version": 3
   },
   "file_extension": ".py",
   "mimetype": "text/x-python",
   "name": "python",
   "nbconvert_exporter": "python",
   "pygments_lexer": "ipython3",
   "version": "3.7.0"
  }
 },
 "nbformat": 4,
 "nbformat_minor": 2
}
